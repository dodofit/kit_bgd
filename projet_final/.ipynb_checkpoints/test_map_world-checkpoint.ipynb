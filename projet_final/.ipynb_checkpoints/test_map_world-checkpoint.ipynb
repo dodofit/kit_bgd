{
 "cells": [
  {
   "cell_type": "code",
   "execution_count": null,
   "metadata": {
    "collapsed": true
   },
   "outputs": [],
   "source": [
    "import plotly.express as px\n",
    "import geopandas as gpd\n",
    "import shapely.geometry\n",
    "import numpy as np\n",
    "import wget\n",
    "\n",
    "\n",
    "# download a zipped shapefile\n",
    "wget.download(\"https://plotly.github.io/datasets/ne_50m_rivers_lake_centerlines.zip\")\n",
    "\n",
    "# open a zipped shapefile with the zip:// pseudo-protocol\n",
    "geo_df = gpd.read_file(\"zip://ne_50m_rivers_lake_centerlines.zip\")\n",
    "\n",
    "lats = []\n",
    "lons = []\n",
    "names = []\n",
    "\n",
    "for feature, name in zip(geo_df.geometry, geo_df.name):\n",
    "    if isinstance(feature, shapely.geometry.linestring.LineString):\n",
    "        linestrings = [feature]\n",
    "    elif isinstance(feature, shapely.geometry.multilinestring.MultiLineString):\n",
    "        linestrings = feature.geoms\n",
    "    else:\n",
    "        continue\n",
    "    for linestring in linestrings:\n",
    "        x, y = linestring.xy\n",
    "        lats = np.append(lats, y)\n",
    "        lons = np.append(lons, x)\n",
    "        names = np.append(names, [name]*len(y))\n",
    "        lats = np.append(lats, None)\n",
    "        lons = np.append(lons, None)\n",
    "        names = np.append(names, None)\n",
    "\n",
    "fig = px.line_geo(lat=lats, lon=lons, hover_name=names)\n",
    "fig.show()"
   ]
  },
  {
   "cell_type": "code",
   "execution_count": 1,
   "metadata": {},
   "outputs": [
    {
     "name": "stderr",
     "output_type": "stream",
     "text": [
      "/Users/dorianfitton/opt/anaconda3/envs/bgd/lib/python3.10/site-packages/requests/__init__.py:102: RequestsDependencyWarning: urllib3 (1.26.11) or chardet (5.0.0)/charset_normalizer (2.0.4) doesn't match a supported version!\n",
      "  warnings.warn(\"urllib3 ({}) or chardet ({})/charset_normalizer ({}) doesn't match a supported \"\n"
     ]
    },
    {
     "data": {
      "text/plain": [
       "{'place_id': 346057888,\n",
       " 'licence': 'Data © OpenStreetMap contributors, ODbL 1.0. https://osm.org/copyright',\n",
       " 'osm_type': 'relation',\n",
       " 'osm_id': 9903423,\n",
       " 'boundingbox': ['48.7123423', '48.7134647', '2.1988453', '2.2015918'],\n",
       " 'lat': '48.7129116',\n",
       " 'lon': '2.1998893037725673',\n",
       " 'display_name': 'Télécom Paris, 19, Place Marguerite Perey, La Vauve - École Polytechnique, Campus Urbain de Paris-Saclay, Palaiseau, Essonne, Île-de-France, France métropolitaine, 91120, France',\n",
       " 'class': 'building',\n",
       " 'type': 'yes',\n",
       " 'importance': 1.1725057412006172}"
      ]
     },
     "execution_count": 1,
     "metadata": {},
     "output_type": "execute_result"
    }
   ],
   "source": [
    "# mandatory if Python ssl.SSLError occurs\n",
    "#import ssl\n",
    "#import certifi\n",
    "#ctx = ssl.create_default_context(cafile=certifi.where())\n",
    "#geopy.geocoders.options.default_ssl_context = ctx\n",
    "#import geopy\n",
    "\n",
    "from geopy.geocoders import Nominatim\n",
    "\n",
    "geolocator = Nominatim(user_agent='telecom_paris', timeout=7)\n",
    "location = geolocator.geocode('19 Place Marguerite Perey, 91120 Palaiseau, France')\n",
    "location.raw"
   ]
  },
  {
   "cell_type": "code",
   "execution_count": 2,
   "metadata": {},
   "outputs": [
    {
     "data": {
      "text/plain": [
       "('48.7129116', '2.1998893037725673')"
      ]
     },
     "execution_count": 2,
     "metadata": {},
     "output_type": "execute_result"
    }
   ],
   "source": [
    "# get latitude and longitude\n",
    "lat, lon = location.raw['lat'], location.raw['lon']\n",
    "lat, lon"
   ]
  },
  {
   "cell_type": "code",
   "execution_count": 3,
   "metadata": {},
   "outputs": [
    {
     "data": {
      "application/vnd.jupyter.widget-view+json": {
       "model_id": "489065d2ff894d94b43bcbf10f274ee5",
       "version_major": 2,
       "version_minor": 0
      },
      "text/plain": [
       "Map(center=['48.7129116', '2.1998893037725673'], controls=(ZoomControl(options=['position', 'zoom_in_text', 'z…"
      ]
     },
     "metadata": {},
     "output_type": "display_data"
    }
   ],
   "source": [
    "# demo\n",
    "from ipyleaflet import Map\n",
    "\n",
    "# map arround 48.71, 2.20\n",
    "m = Map(center=(lat, lon), zoom=18)\n",
    "m"
   ]
  },
  {
   "cell_type": "code",
   "execution_count": 4,
   "metadata": {},
   "outputs": [
    {
     "data": {
      "application/vnd.jupyter.widget-view+json": {
       "model_id": "c08d2c74469d4343a44d8879b777d5a4",
       "version_major": 2,
       "version_minor": 0
      },
      "text/plain": [
       "Map(center=['48.7129116', '2.1998893037725673'], controls=(ZoomControl(options=['position', 'zoom_in_text', 'z…"
      ]
     },
     "metadata": {},
     "output_type": "display_data"
    }
   ],
   "source": [
    "# satellite map\n",
    "from datetime import datetime, timedelta\n",
    "from ipyleaflet import basemaps, basemap_to_tiles\n",
    "\n",
    "# satellite map for yesterday\n",
    "# NASA's Global Imagery Browse Services\n",
    "yesterday = datetime.now() - timedelta(days=14)\n",
    "nasa = basemap_to_tiles(basemaps.NASAGIBS.ModisTerraTrueColorCR, yesterday.strftime('%Y-%m-%d'))\n",
    "m = Map(layers=(nasa, ), center=(lat, lon), zoom=8)\n",
    "\n",
    "m"
   ]
  },
  {
   "cell_type": "code",
   "execution_count": 5,
   "metadata": {},
   "outputs": [
    {
     "data": {
      "text/plain": [
       "(199301, 19)"
      ]
     },
     "execution_count": 5,
     "metadata": {},
     "output_type": "execute_result"
    }
   ],
   "source": [
    "# villes\n",
    "\n",
    "import pandas as pd\n",
    "df = pd.read_csv('/Users/dorianfitton/Documents/Cours_Télécom/Kit BIG DATA/kit_bgd/cities500.zip',\n",
    "                 sep='\\t',header=None,\n",
    "                 keep_default_na=False,  # NA = North America\n",
    "                 na_values=['', -9999],\n",
    "                 names=['geonameid', 'name', 'asciiname', 'alternatenames', 'latitude',\n",
    "                        'longitude', 'feature class', 'feature code', 'country code',\n",
    "                        'cc2', 'admin1 code', 'admin2 code', 'admin3 code', 'admin4 code',\n",
    "                        'population', 'elevation', 'dem', 'timezone', 'modification date'],\n",
    "                        dtype={'admin1 code': str,\n",
    "                               'admin2 code': str,\n",
    "                               'admin3 code': str,\n",
    "                               'admin4 code': str})\n",
    "df.shape\n",
    "\n"
   ]
  },
  {
   "cell_type": "code",
   "execution_count": 6,
   "metadata": {},
   "outputs": [
    {
     "data": {
      "application/vnd.jupyter.widget-view+json": {
       "model_id": "c025427b7a004f5d9b8295a23ab66960",
       "version_major": 2,
       "version_minor": 0
      },
      "text/plain": [
       "Map(center=[50, 50], controls=(ZoomControl(options=['position', 'zoom_in_text', 'zoom_in_title', 'zoom_out_tex…"
      ]
     },
     "metadata": {},
     "output_type": "display_data"
    }
   ],
   "source": [
    "from ipyleaflet import Marker, LayerGroup\n",
    "\n",
    "watercolor = basemap_to_tiles(basemaps.Stamen.Watercolor)\n",
    "m = Map(layers=(watercolor, ), center=(50, 50), zoom=1)\n",
    "\n",
    "# add markers for cities with population >= 3M\n",
    "df2 = df.loc[df['population'] >= 3e6]\n",
    "layers = []\n",
    "for i, row in df2.iterrows():\n",
    "    marker = Marker(location=(row['latitude'], row['longitude']),\n",
    "                    draggable=False,\n",
    "                    title=row['name'])\n",
    "    layers.append(marker)\n",
    "layer_group = LayerGroup(layers=layers)\n",
    "m.add_layer(layer_group)\n",
    "\n",
    "m"
   ]
  },
  {
   "cell_type": "code",
   "execution_count": null,
   "metadata": {},
   "outputs": [],
   "source": []
  }
 ],
 "metadata": {
  "kernelspec": {
   "display_name": "Python 3 (ipykernel)",
   "language": "python",
   "name": "python3"
  },
  "language_info": {
   "codemirror_mode": {
    "name": "ipython",
    "version": 3
   },
   "file_extension": ".py",
   "mimetype": "text/x-python",
   "name": "python",
   "nbconvert_exporter": "python",
   "pygments_lexer": "ipython3",
   "version": "3.10.4"
  }
 },
 "nbformat": 4,
 "nbformat_minor": 1
}
