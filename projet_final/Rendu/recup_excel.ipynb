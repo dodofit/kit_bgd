{
 "cells": [
  {
   "cell_type": "code",
   "execution_count": 1,
   "metadata": {},
   "outputs": [
    {
     "name": "stderr",
     "output_type": "stream",
     "text": [
      "/Users/dorianfitton/opt/anaconda3/envs/bgd/lib/python3.10/site-packages/requests/__init__.py:102: RequestsDependencyWarning: urllib3 (1.26.11) or chardet (5.0.0)/charset_normalizer (2.0.4) doesn't match a supported version!\n",
      "  warnings.warn(\"urllib3 ({}) or chardet ({})/charset_normalizer ({}) doesn't match a supported \"\n",
      "/Users/dorianfitton/opt/anaconda3/envs/bgd/lib/python3.10/site-packages/xlwings/pro/utils.py:148: UserWarning: Your license key expires in 26 days.\n",
      "  warnings.warn(\n"
     ]
    }
   ],
   "source": [
    "from projet_final_function import *"
   ]
  },
  {
   "cell_type": "code",
   "execution_count": 2,
   "metadata": {},
   "outputs": [],
   "source": [
    "url = \"https://www.vendeeglobe.org/fr/classement/20210305_080000\"\n",
    "url_base = \"https://www.vendeeglobe.org/fr/classement/\"\n",
    "file_base = \"vendeeglobe_\""
   ]
  },
  {
   "cell_type": "code",
   "execution_count": 3,
   "metadata": {},
   "outputs": [],
   "source": [
    "soup = BeautifulSoup(requests.get(url).content)\n",
    "list_classement = []"
   ]
  },
  {
   "cell_type": "code",
   "execution_count": 4,
   "metadata": {},
   "outputs": [],
   "source": [
    "hist_class_soup = soup.find_all('option')\n",
    "for i in hist_class_soup[1:]:\n",
    "    class_=i.text.replace('-',\"\").replace(\":\",\"\")[1:].replace(\" \",\"_\")\n",
    "    list_classement.append(class_)\n"
   ]
  },
  {
   "cell_type": "code",
   "execution_count": 5,
   "metadata": {},
   "outputs": [],
   "source": [
    "prem_classement = \"vendeeglobe_20201108_210000\"\n",
    "der_class = \"vendeeglobe_20210305_040000\""
   ]
  },
  {
   "cell_type": "markdown",
   "metadata": {},
   "source": [
    "\n"
   ]
  },
  {
   "cell_type": "code",
   "execution_count": null,
   "metadata": {},
   "outputs": [],
   "source": [
    "url_base = \"https://www.vendeeglobe.org/download-race-data/\"\n",
    "data_path = \"/Users/dorianfitton/Documents/Cours_Télécom/Kit BIG DATA/kit_bgd/projet_final/\"\n",
    "\n",
    "df_all = pd.DataFrame()\n",
    "\n",
    "for i in list_classement:\n",
    "    file_class_name = file_base + i + \".xlsx\"\n",
    "    url_class = url_base + file_class_name\n",
    "\n",
    "    response = requests.get(url_class)\n",
    "    open(file_class_name, \"wb\").write(response.content)\n",
    "\n",
    "\n",
    "    with xw.Book(data_path+file_class_name, mode=\"r\") as book:\n",
    "        sheet1 = book.sheets[0]\n",
    "        data = sheet1.cells.value\n",
    "        df = pd.DataFrame(data).drop(0).replace('\\r', '', regex=True).reset_index().drop('index', axis=1)\n",
    "        df.to_csv(data_path+file_base+i)"
   ]
  }
 ],
 "metadata": {
  "kernelspec": {
   "display_name": "Python 3 (ipykernel)",
   "language": "python",
   "name": "python3"
  },
  "language_info": {
   "codemirror_mode": {
    "name": "ipython",
    "version": 3
   },
   "file_extension": ".py",
   "mimetype": "text/x-python",
   "name": "python",
   "nbconvert_exporter": "python",
   "pygments_lexer": "ipython3",
   "version": "3.10.4"
  }
 },
 "nbformat": 4,
 "nbformat_minor": 1
}
