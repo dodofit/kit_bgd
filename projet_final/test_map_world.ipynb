{
 "cells": [
  {
   "cell_type": "code",
   "execution_count": null,
   "metadata": {
    "collapsed": true
   },
   "outputs": [],
   "source": [
    "import plotly.express as px\n",
    "import geopandas as gpd\n",
    "import shapely.geometry\n",
    "import numpy as np\n",
    "import wget\n",
    "\n",
    "\n",
    "# download a zipped shapefile\n",
    "wget.download(\"https://plotly.github.io/datasets/ne_50m_rivers_lake_centerlines.zip\")\n",
    "\n",
    "# open a zipped shapefile with the zip:// pseudo-protocol\n",
    "geo_df = gpd.read_file(\"zip://ne_50m_rivers_lake_centerlines.zip\")\n",
    "\n",
    "lats = []\n",
    "lons = []\n",
    "names = []\n",
    "\n",
    "for feature, name in zip(geo_df.geometry, geo_df.name):\n",
    "    if isinstance(feature, shapely.geometry.linestring.LineString):\n",
    "        linestrings = [feature]\n",
    "    elif isinstance(feature, shapely.geometry.multilinestring.MultiLineString):\n",
    "        linestrings = feature.geoms\n",
    "    else:\n",
    "        continue\n",
    "    for linestring in linestrings:\n",
    "        x, y = linestring.xy\n",
    "        lats = np.append(lats, y)\n",
    "        lons = np.append(lons, x)\n",
    "        names = np.append(names, [name]*len(y))\n",
    "        lats = np.append(lats, None)\n",
    "        lons = np.append(lons, None)\n",
    "        names = np.append(names, None)\n",
    "\n",
    "fig = px.line_geo(lat=lats, lon=lons, hover_name=names)\n",
    "fig.show()"
   ]
  },
  {
   "cell_type": "code",
   "execution_count": 8,
   "outputs": [
    {
     "name": "stderr",
     "output_type": "stream",
     "text": [
      "/Users/dorianfitton/opt/anaconda3/envs/bgd/lib/python3.10/site-packages/requests/__init__.py:102: RequestsDependencyWarning: urllib3 (1.26.11) or chardet (5.0.0)/charset_normalizer (2.0.4) doesn't match a supported version!\n",
      "  warnings.warn(\"urllib3 ({}) or chardet ({})/charset_normalizer ({}) doesn't match a supported \"\n"
     ]
    },
    {
     "data": {
      "text/plain": "{'place_id': 346057888,\n 'licence': 'Data © OpenStreetMap contributors, ODbL 1.0. https://osm.org/copyright',\n 'osm_type': 'relation',\n 'osm_id': 9903423,\n 'boundingbox': ['48.7123423', '48.7134647', '2.1988453', '2.2015918'],\n 'lat': '48.7129116',\n 'lon': '2.1998893037725673',\n 'display_name': 'Télécom Paris, 19, Place Marguerite Perey, La Vauve - École Polytechnique, Campus Urbain de Paris-Saclay, Palaiseau, Essonne, Île-de-France, France métropolitaine, 91120, France',\n 'class': 'building',\n 'type': 'yes',\n 'importance': 1.1725057412006172}"
     },
     "execution_count": 8,
     "metadata": {},
     "output_type": "execute_result"
    }
   ],
   "source": [
    "# mandatory if Python ssl.SSLError occurs\n",
    "#import ssl\n",
    "#import certifi\n",
    "#ctx = ssl.create_default_context(cafile=certifi.where())\n",
    "#geopy.geocoders.options.default_ssl_context = ctx\n",
    "#import geopy\n",
    "\n",
    "from geopy.geocoders import Nominatim\n",
    "\n",
    "geolocator = Nominatim(user_agent='telecom_paris', timeout=7)\n",
    "location = geolocator.geocode('19 Place Marguerite Perey, 91120 Palaiseau, France')\n",
    "location.raw"
   ],
   "metadata": {
    "collapsed": false
   }
  },
  {
   "cell_type": "code",
   "execution_count": 9,
   "outputs": [
    {
     "data": {
      "text/plain": "('48.7129116', '2.1998893037725673')"
     },
     "execution_count": 9,
     "metadata": {},
     "output_type": "execute_result"
    }
   ],
   "source": [
    "# get latitude and longitude\n",
    "lat, lon = location.raw['lat'], location.raw['lon']\n",
    "lat, lon"
   ],
   "metadata": {
    "collapsed": false
   }
  },
  {
   "cell_type": "code",
   "execution_count": 10,
   "outputs": [],
   "source": [
    "# demo\n",
    "\n",
    "\n",
    "# map arround 48.71, 2.20\n",
    "m = Map(center=(lat, lon), zoom=18)\n",
    "\n",
    "# satellite map for yesterday\n",
    "# NASA's Global Imagery Browse Services\n",
    "yesterday = datetime.now() - timedelta(days=14)\n",
    "nasa = basemap_to_tiles(basemaps.NASAGIBS.ModisTerraTrueColorCR, yesterday.strftime('%Y-%m-%d'))\n",
    "m = Map(layers=(nasa, ), center=(lat, lon), zoom=8)\n",
    "\n",
    "\n",
    "df = pd.read_csv('/Users/dorianfitton/Documents/Cours_Télécom/Kit BIG DATA/kit_bgd/cities500.zip',\n",
    "                 sep='\\t',header=None,\n",
    "                 keep_default_na=False,  # NA = North America\n",
    "                 na_values=['', -9999],\n",
    "                 names=['geonameid', 'name', 'asciiname', 'alternatenames', 'latitude',\n",
    "                        'longitude', 'feature class', 'feature code', 'country code',\n",
    "                        'cc2', 'admin1 code', 'admin2 code', 'admin3 code', 'admin4 code',\n",
    "                        'population', 'elevation', 'dem', 'timezone', 'modification date'],\n",
    "                        dtype={'admin1 code': str,\n",
    "                               'admin2 code': str,\n",
    "                               'admin3 code': str,\n",
    "                               'admin4 code': str})\n",
    "df.shape\n",
    "\n",
    "\n",
    "\n",
    "\n",
    "m"
   ],
   "metadata": {
    "collapsed": false
   }
  },
  {
   "cell_type": "code",
   "execution_count": 27,
   "outputs": [],
   "source": [],
   "metadata": {
    "collapsed": false
   }
  },
  {
   "cell_type": "code",
   "execution_count": 11,
   "outputs": [
    {
     "data": {
      "text/plain": "     Latitude   Longitude\n0  45°55.11'N  45°55.11'N\n1  45°55.11'S  45°55.11'S",
      "text/html": "<div>\n<style scoped>\n    .dataframe tbody tr th:only-of-type {\n        vertical-align: middle;\n    }\n\n    .dataframe tbody tr th {\n        vertical-align: top;\n    }\n\n    .dataframe thead th {\n        text-align: right;\n    }\n</style>\n<table border=\"1\" class=\"dataframe\">\n  <thead>\n    <tr style=\"text-align: right;\">\n      <th></th>\n      <th>Latitude</th>\n      <th>Longitude</th>\n    </tr>\n  </thead>\n  <tbody>\n    <tr>\n      <th>0</th>\n      <td>45°55.11'N</td>\n      <td>45°55.11'N</td>\n    </tr>\n    <tr>\n      <th>1</th>\n      <td>45°55.11'S</td>\n      <td>45°55.11'S</td>\n    </tr>\n  </tbody>\n</table>\n</div>"
     },
     "execution_count": 11,
     "metadata": {},
     "output_type": "execute_result"
    }
   ],
   "source": [
    "df"
   ],
   "metadata": {
    "collapsed": false
   }
  },
  {
   "cell_type": "code",
   "execution_count": 12,
   "outputs": [
    {
     "data": {
      "text/plain": "  Latitude Longitude\n0    55.11     55.11\n1    55.11     55.11",
      "text/html": "<div>\n<style scoped>\n    .dataframe tbody tr th:only-of-type {\n        vertical-align: middle;\n    }\n\n    .dataframe tbody tr th {\n        vertical-align: top;\n    }\n\n    .dataframe thead th {\n        text-align: right;\n    }\n</style>\n<table border=\"1\" class=\"dataframe\">\n  <thead>\n    <tr style=\"text-align: right;\">\n      <th></th>\n      <th>Latitude</th>\n      <th>Longitude</th>\n    </tr>\n  </thead>\n  <tbody>\n    <tr>\n      <th>0</th>\n      <td>55.11</td>\n      <td>55.11</td>\n    </tr>\n    <tr>\n      <th>1</th>\n      <td>55.11</td>\n      <td>55.11</td>\n    </tr>\n  </tbody>\n</table>\n</div>"
     },
     "execution_count": 12,
     "metadata": {},
     "output_type": "execute_result"
    }
   ],
   "source": [
    "df.replace(r'([0-9]{2})(°)?(\\d*)(\\.?)(\\d+)(\\')([A-Z]?)', r'\\3\\4\\5', regex=True)"
   ],
   "metadata": {
    "collapsed": false
   }
  },
  {
   "cell_type": "code",
   "execution_count": 36,
   "outputs": [
    {
     "data": {
      "text/plain": "    0\n0  11\n1  11",
      "text/html": "<div>\n<style scoped>\n    .dataframe tbody tr th:only-of-type {\n        vertical-align: middle;\n    }\n\n    .dataframe tbody tr th {\n        vertical-align: top;\n    }\n\n    .dataframe thead th {\n        text-align: right;\n    }\n</style>\n<table border=\"1\" class=\"dataframe\">\n  <thead>\n    <tr style=\"text-align: right;\">\n      <th></th>\n      <th>0</th>\n    </tr>\n  </thead>\n  <tbody>\n    <tr>\n      <th>0</th>\n      <td>11</td>\n    </tr>\n    <tr>\n      <th>1</th>\n      <td>11</td>\n    </tr>\n  </tbody>\n</table>\n</div>"
     },
     "execution_count": 36,
     "metadata": {},
     "output_type": "execute_result"
    }
   ],
   "source": [
    "df.replace(r'([0-9]{2})(°)?(\\d*)\\.?(\\d+)(\\'[A-Z]?)', r'\\4', regex=True)"
   ],
   "metadata": {
    "collapsed": false
   }
  },
  {
   "cell_type": "code",
   "execution_count": 41,
   "outputs": [],
   "source": [
    "def dms2dec(deg, mn, cap):\n",
    "    if cap in ['N', 'E']:\n",
    "        x = deg + mn / 60\n",
    "    if cap in ['S', 'W']:\n",
    "        x = (deg + mn / 60)*-1\n",
    "\n",
    "    return x"
   ],
   "metadata": {
    "collapsed": false
   }
  },
  {
   "cell_type": "code",
   "execution_count": 42,
   "outputs": [
    {
     "data": {
      "text/plain": "45.9185"
     },
     "execution_count": 42,
     "metadata": {},
     "output_type": "execute_result"
    }
   ],
   "source": [
    "dms2dec(45, 55.11, 'N')"
   ],
   "metadata": {
    "collapsed": false
   }
  },
  {
   "cell_type": "code",
   "execution_count": 70,
   "outputs": [],
   "source": [
    "def convert_lat_lon(df):\n",
    "    deg = df['Latitude'].replace(r'(\\d+)(°)?(\\d*)\\.?(\\d+)(\\'[A-Z]?)', r'\\1', regex=True).astype(int)\n",
    "\n",
    "    min = df['Latitude'].replace(r'(\\d+)(°)?(\\d*)(\\.?)(\\d+)(\\')([A-Z]?)', r'\\3\\4\\5', regex=True).astype(float)\n",
    "\n",
    "\n",
    "    cap = df['Latitude'].replace(r'(\\d+)(°)?(\\d*)\\.?(\\d+)(\\')([A-Z]?)', r'\\6', regex=True)\n",
    "\n",
    "    df['Latitude']=dms2dec(deg,min,cap)\n",
    "\n",
    "    deg = df['Longitude'].replace(r'(\\d+)(°)?(\\d*)\\.?(\\d+)(\\'[A-Z]?)', r'\\1', regex=True).astype(int)\n",
    "\n",
    "    min = df['Longitude'].replace(r'(\\d+)(°)?(\\d*)(\\.?)(\\d+)(\\')([A-Z]?)', r'\\3\\4\\5', regex=True).astype(float)\n",
    "\n",
    "\n",
    "    cap = df['Longitude'].replace(r'(\\d+)(°)?(\\d*)\\.?(\\d+)(\\')([A-Z]?)', r'\\6', regex=True)\n",
    "\n",
    "    df['Longitude']=dms2dec(deg,min,cap.apply(lambda x: x))\n",
    "\n",
    "    return df\n",
    "\n",
    "def dms2dec(deg, mn, cap):\n",
    "    map = {'N':1, 'E':1,'S':-1, 'W':-1}\n",
    "    cap_m = cap.map(map)\n",
    "\n",
    "    x = (deg + mn / 60)*cap_m\n",
    "\n",
    "    return x"
   ],
   "metadata": {
    "collapsed": false
   }
  },
  {
   "cell_type": "code",
   "execution_count": 68,
   "outputs": [],
   "source": [
    "\n",
    "\n",
    "\n"
   ],
   "metadata": {
    "collapsed": false
   }
  },
  {
   "cell_type": "code",
   "execution_count": 69,
   "outputs": [
    {
     "data": {
      "text/plain": "0    1\n1   -1\nName: Longitude, dtype: int64"
     },
     "execution_count": 69,
     "metadata": {},
     "output_type": "execute_result"
    }
   ],
   "source": [
    "cap_m"
   ],
   "metadata": {
    "collapsed": false
   }
  },
  {
   "cell_type": "code",
   "execution_count": null,
   "outputs": [],
   "source": [
    "    if cap_ in ['N', 'E']:\n",
    "        x = deg + mn / 60\n",
    "    if cap_ in ['S', 'W']:\n",
    "        x = (deg + mn / 60)*-1"
   ],
   "metadata": {
    "collapsed": false
   }
  },
  {
   "cell_type": "code",
   "execution_count": 71,
   "outputs": [],
   "source": [
    "import pandas as pd\n",
    "lat = [\"45°55.11'N\",\"45°55.11'N\"]\n",
    "lon = [\"6°55.11'E\",\"7°55.11'W\"]\n",
    "\n",
    "df=pd.DataFrame([lat,lon], columns=['Latitude', 'Longitude'])"
   ],
   "metadata": {
    "collapsed": false
   }
  },
  {
   "cell_type": "code",
   "execution_count": 66,
   "outputs": [
    {
     "data": {
      "text/plain": "   Latitude  Longitude\n0   45.9185   -45.9185\n1    6.9185    -7.9185",
      "text/html": "<div>\n<style scoped>\n    .dataframe tbody tr th:only-of-type {\n        vertical-align: middle;\n    }\n\n    .dataframe tbody tr th {\n        vertical-align: top;\n    }\n\n    .dataframe thead th {\n        text-align: right;\n    }\n</style>\n<table border=\"1\" class=\"dataframe\">\n  <thead>\n    <tr style=\"text-align: right;\">\n      <th></th>\n      <th>Latitude</th>\n      <th>Longitude</th>\n    </tr>\n  </thead>\n  <tbody>\n    <tr>\n      <th>0</th>\n      <td>45.9185</td>\n      <td>-45.9185</td>\n    </tr>\n    <tr>\n      <th>1</th>\n      <td>6.9185</td>\n      <td>-7.9185</td>\n    </tr>\n  </tbody>\n</table>\n</div>"
     },
     "execution_count": 66,
     "metadata": {},
     "output_type": "execute_result"
    }
   ],
   "source": [
    "df"
   ],
   "metadata": {
    "collapsed": false
   }
  },
  {
   "cell_type": "code",
   "execution_count": 72,
   "outputs": [
    {
     "data": {
      "text/plain": "   Latitude  Longitude\n0   45.9185    45.9185\n1    6.9185    -7.9185",
      "text/html": "<div>\n<style scoped>\n    .dataframe tbody tr th:only-of-type {\n        vertical-align: middle;\n    }\n\n    .dataframe tbody tr th {\n        vertical-align: top;\n    }\n\n    .dataframe thead th {\n        text-align: right;\n    }\n</style>\n<table border=\"1\" class=\"dataframe\">\n  <thead>\n    <tr style=\"text-align: right;\">\n      <th></th>\n      <th>Latitude</th>\n      <th>Longitude</th>\n    </tr>\n  </thead>\n  <tbody>\n    <tr>\n      <th>0</th>\n      <td>45.9185</td>\n      <td>45.9185</td>\n    </tr>\n    <tr>\n      <th>1</th>\n      <td>6.9185</td>\n      <td>-7.9185</td>\n    </tr>\n  </tbody>\n</table>\n</div>"
     },
     "execution_count": 72,
     "metadata": {},
     "output_type": "execute_result"
    }
   ],
   "source": [
    "convert_lat_lon(df)"
   ],
   "metadata": {
    "collapsed": false
   }
  },
  {
   "cell_type": "code",
   "execution_count": null,
   "outputs": [],
   "source": [
    "deg = df['Latitude'].replace(r'([0-9]{2})(°)?(\\d*)\\.?(\\d+)(\\'[A-Z]?)', r'\\1', regex=True).astype(int)\n",
    "\n",
    "min = df['Latitude'].replace(r'([0-9]{2})(°)?(\\d*)(\\.?)(\\d+)(\\')([A-Z]?)', r'\\3\\4\\5', regex=True).astype(float)\n",
    "\n",
    "\n",
    "cap = df['Latitude'].replace(r'([0-9]{2})(°)?(\\d*)\\.?(\\d+)(\\')([A-Z]?)', r'\\6', regex=True)\n",
    "\n",
    "df['Latitude']=dms2dec(deg,min,cap)\n",
    "\n",
    "deg = df['Longitude'].replace(r'([0-9]{2})(°)?(\\d*)\\.?(\\d+)(\\'[A-Z]?)', r'\\1', regex=True).astype(int)\n",
    "\n",
    "min = df['Longitude'].replace(r'([0-9]{2})(°)?(\\d*)(\\.?)(\\d+)(\\')([A-Z]?)', r'\\3\\4\\5', regex=True).astype(float)\n",
    "\n",
    "\n",
    "cap = df['Longitude'].replace(r'([0-9]{2})(°)?(\\d*)\\.?(\\d+)(\\')([A-Z]?)', r'\\6', regex=True)\n",
    "\n",
    "df['Longitude']=dms2dec(deg,min,cap)\n",
    "\n"
   ],
   "metadata": {
    "collapsed": false
   }
  },
  {
   "cell_type": "code",
   "execution_count": 39,
   "outputs": [
    {
     "data": {
      "text/plain": "0    45\n1    45\nName: Latitude, dtype: int64"
     },
     "execution_count": 39,
     "metadata": {},
     "output_type": "execute_result"
    }
   ],
   "source": [
    "deg = df['Latitude'].replace(r'([0-9]{2})(°)?(\\d*)\\.?(\\d+)(\\'[A-Z]?)', r'\\1', regex=True).astype(int)\n",
    "deg"
   ],
   "metadata": {
    "collapsed": false
   }
  },
  {
   "cell_type": "code",
   "execution_count": 40,
   "outputs": [
    {
     "data": {
      "text/plain": "0    55.11\n1    55.11\nName: Latitude, dtype: float64"
     },
     "execution_count": 40,
     "metadata": {},
     "output_type": "execute_result"
    }
   ],
   "source": [
    "min = df['Latitude'].replace(r'([0-9]{2})(°)?(\\d*)(\\.?)(\\d+)(\\')([A-Z]?)', r'\\3\\4\\5', regex=True).astype(float)\n",
    "min"
   ],
   "metadata": {
    "collapsed": false
   }
  },
  {
   "cell_type": "code",
   "execution_count": 41,
   "outputs": [
    {
     "data": {
      "text/plain": "0    N\n1    S\nName: Longitude, dtype: object"
     },
     "execution_count": 41,
     "metadata": {},
     "output_type": "execute_result"
    }
   ],
   "source": [
    "cap = df['Longitude'].replace(r'([0-9]{2})(°)?(\\d*)\\.?(\\d+)(\\')([A-Z]?)', r'\\6', regex=True)\n",
    "cap"
   ],
   "metadata": {
    "collapsed": false
   }
  },
  {
   "cell_type": "code",
   "execution_count": 49,
   "outputs": [],
   "source": [
    "\n",
    "for cap_ in cap:\n",
    "    if cap_ in ['N', 'E']:\n",
    "        x = deg + min / 60\n",
    "    if cap_ in ['S', 'W']:\n",
    "        x = (deg + min / 60)*-1\n"
   ],
   "metadata": {
    "collapsed": false
   }
  },
  {
   "cell_type": "code",
   "execution_count": 50,
   "outputs": [
    {
     "data": {
      "text/plain": "0   -45.9185\n1   -45.9185\nName: Latitude, dtype: float64"
     },
     "execution_count": 50,
     "metadata": {},
     "output_type": "execute_result"
    }
   ],
   "source": [
    "x"
   ],
   "metadata": {
    "collapsed": false
   }
  },
  {
   "cell_type": "code",
   "execution_count": 51,
   "outputs": [
    {
     "data": {
      "text/plain": "     Latitude   Longitude\n0  45°55.11'N  45°55.11'N\n1   6°55.11'E   7°55.11'W",
      "text/html": "<div>\n<style scoped>\n    .dataframe tbody tr th:only-of-type {\n        vertical-align: middle;\n    }\n\n    .dataframe tbody tr th {\n        vertical-align: top;\n    }\n\n    .dataframe thead th {\n        text-align: right;\n    }\n</style>\n<table border=\"1\" class=\"dataframe\">\n  <thead>\n    <tr style=\"text-align: right;\">\n      <th></th>\n      <th>Latitude</th>\n      <th>Longitude</th>\n    </tr>\n  </thead>\n  <tbody>\n    <tr>\n      <th>0</th>\n      <td>45°55.11'N</td>\n      <td>45°55.11'N</td>\n    </tr>\n    <tr>\n      <th>1</th>\n      <td>6°55.11'E</td>\n      <td>7°55.11'W</td>\n    </tr>\n  </tbody>\n</table>\n</div>"
     },
     "execution_count": 51,
     "metadata": {},
     "output_type": "execute_result"
    }
   ],
   "source": [
    "df"
   ],
   "metadata": {
    "collapsed": false
   }
  },
  {
   "cell_type": "code",
   "execution_count": 53,
   "outputs": [],
   "source": [
    "df = pd.read_csv('/Users/dorianfitton/Documents/Cours_Télécom/Kit BIG DATA/kit_bgd/projet_final/dataset_complet')"
   ],
   "metadata": {
    "collapsed": false
   }
  },
  {
   "cell_type": "code",
   "execution_count": 56,
   "outputs": [
    {
     "data": {
      "text/plain": "       Longitude   Latitude\n0      -2.432000  46.713500\n1      -3.815000  47.140667\n2      -4.706000  47.182167\n3      -5.344833  47.213667\n4      -5.585167  47.151833\n...          ...        ...\n14204  -9.289500  45.457167\n14205  -8.861333  45.930167\n14206  -8.685833  46.346167\n14207  -8.574833  46.910167\n14208  -7.553667  46.511667\n\n[14209 rows x 2 columns]",
      "text/html": "<div>\n<style scoped>\n    .dataframe tbody tr th:only-of-type {\n        vertical-align: middle;\n    }\n\n    .dataframe tbody tr th {\n        vertical-align: top;\n    }\n\n    .dataframe thead th {\n        text-align: right;\n    }\n</style>\n<table border=\"1\" class=\"dataframe\">\n  <thead>\n    <tr style=\"text-align: right;\">\n      <th></th>\n      <th>Longitude</th>\n      <th>Latitude</th>\n    </tr>\n  </thead>\n  <tbody>\n    <tr>\n      <th>0</th>\n      <td>-2.432000</td>\n      <td>46.713500</td>\n    </tr>\n    <tr>\n      <th>1</th>\n      <td>-3.815000</td>\n      <td>47.140667</td>\n    </tr>\n    <tr>\n      <th>2</th>\n      <td>-4.706000</td>\n      <td>47.182167</td>\n    </tr>\n    <tr>\n      <th>3</th>\n      <td>-5.344833</td>\n      <td>47.213667</td>\n    </tr>\n    <tr>\n      <th>4</th>\n      <td>-5.585167</td>\n      <td>47.151833</td>\n    </tr>\n    <tr>\n      <th>...</th>\n      <td>...</td>\n      <td>...</td>\n    </tr>\n    <tr>\n      <th>14204</th>\n      <td>-9.289500</td>\n      <td>45.457167</td>\n    </tr>\n    <tr>\n      <th>14205</th>\n      <td>-8.861333</td>\n      <td>45.930167</td>\n    </tr>\n    <tr>\n      <th>14206</th>\n      <td>-8.685833</td>\n      <td>46.346167</td>\n    </tr>\n    <tr>\n      <th>14207</th>\n      <td>-8.574833</td>\n      <td>46.910167</td>\n    </tr>\n    <tr>\n      <th>14208</th>\n      <td>-7.553667</td>\n      <td>46.511667</td>\n    </tr>\n  </tbody>\n</table>\n<p>14209 rows × 2 columns</p>\n</div>"
     },
     "execution_count": 56,
     "metadata": {},
     "output_type": "execute_result"
    }
   ],
   "source": [
    "df[['Longitude', 'Latitude']]"
   ],
   "metadata": {
    "collapsed": false
   }
  },
  {
   "cell_type": "code",
   "execution_count": null,
   "outputs": [],
   "source": [],
   "metadata": {
    "collapsed": false
   }
  }
 ],
 "metadata": {
  "kernelspec": {
   "display_name": "Python 3",
   "language": "python",
   "name": "python3"
  },
  "language_info": {
   "codemirror_mode": {
    "name": "ipython",
    "version": 2
   },
   "file_extension": ".py",
   "mimetype": "text/x-python",
   "name": "python",
   "nbconvert_exporter": "python",
   "pygments_lexer": "ipython2",
   "version": "2.7.6"
  }
 },
 "nbformat": 4,
 "nbformat_minor": 0
}
