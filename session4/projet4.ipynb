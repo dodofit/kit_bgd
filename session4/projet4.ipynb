{
 "cells": [
  {
   "cell_type": "markdown",
   "metadata": {},
   "source": [
    "# Projet maison n° 4"
   ]
  },
  {
   "cell_type": "code",
   "execution_count": 1,
   "metadata": {},
   "outputs": [],
   "source": [
    "# imports\n",
    "import requests\n",
    "from bs4 import BeautifulSoup\n",
    "import lxml\n",
    "import requests\n",
    "import pandas as pd \n",
    "import html5lib\n",
    "import re\n",
    "import urllib"
   ]
  },
  {
   "cell_type": "markdown",
   "metadata": {},
   "source": [
    "**Partie A**\n",
    "\n",
    "Ecrire une fonction `get_prices_from_url()` qui extrait des informations à partir des 2 pages ci-dessous.\n",
    "\n",
    "```python\n",
    "URL_PAGE2 = \"https://kim.fspot.org/cours/page2.html\"\n",
    "URL_PAGE3 = \"https://kim.fspot.org/cours/page3.html\"\n",
    "```\n",
    "\n",
    "Avec `URL_PAGE2`, la fonction doit retourner :\n",
    "\n",
    "\n",
    "{'Personal': {'price': '$5', 'storage': '1GB', 'databases': 1},\n",
    " 'Small Business': {'price': '$25', 'storage': '10GB', 'databases': 5},\n",
    " 'Enterprise': {'price': '$45', 'storage': '100GB', 'databases': 25}}"
   ]
  },
  {
   "cell_type": "code",
   "execution_count": 2,
   "metadata": {},
   "outputs": [],
   "source": [
    "# partie A\n",
    "URL_PAGE2 = \"https://kim.fspot.org/cours/page2.html\"\n",
    "URL_PAGE3 = \"https://kim.fspot.org/cours/page3.html\"\n",
    "\n",
    "def make_soup(url):\n",
    "    try:\n",
    "        html = urllib.request.urlopen(url).read()\n",
    "    except:\n",
    "        return None\n",
    "    return BeautifulSoup(html, \"lxml\")\n",
    "\n",
    "def get_prices_from_url(url):\n",
    "    list_product = {}\n",
    "    prod_description ={}\n",
    "    soup = make_soup(url)\n",
    "    pricing_table = soup.find_all(class_=\"pricing-table\")\n",
    "    for i in range(len(pricing_table)):\n",
    "        pricing_table_pdt = pricing_table[i]\n",
    "        price = pricing_table_pdt.find_all(class_=\"pricing-table-price\")[0]\n",
    "        pricing_table_list = pricing_table_pdt.find_all(class_=\"pricing-table-list\")[0]\n",
    "\n",
    "\n",
    "        prod_description=({\"price\":re.findall('\\$[0-9]+', price.text)[0]\\\n",
    "                                ,\"storage\":re.findall('[0-9]+[A-Z]+', pricing_table_list.select('li')[3].text)[0]\\\n",
    "                                ,\"databases\":int(re.findall('[0-9]+', pricing_table_list.select('li')[4].text)[0])})\n",
    "\n",
    "        list_product.update({pricing_table_pdt.select('h2')[0].text: prod_description})\n",
    "    return list_product"
   ]
  },
  {
   "cell_type": "code",
   "execution_count": 3,
   "metadata": {},
   "outputs": [
    {
     "data": {
      "text/plain": [
       "{'Personal': {'price': '$5', 'storage': '1GB', 'databases': 1},\n",
       " 'Small Business': {'price': '$25', 'storage': '10GB', 'databases': 5},\n",
       " 'Enterprise': {'price': '$45', 'storage': '100GB', 'databases': 25}}"
      ]
     },
     "execution_count": 3,
     "metadata": {},
     "output_type": "execute_result"
    }
   ],
   "source": [
    "get_prices_from_url(URL_PAGE2)"
   ]
  },
  {
   "cell_type": "code",
   "execution_count": 4,
   "metadata": {},
   "outputs": [],
   "source": [
    "li={'Personal': {'price': '$5', 'storage': '1GB', 'databases': 1},\\\n",
    " 'Small Business': {'price': '$25', 'storage': '10GB', 'databases': 5},\\\n",
    " 'Enterprise': {'price': '$45', 'storage': '100GB', 'databases': 25}}"
   ]
  },
  {
   "cell_type": "code",
   "execution_count": 5,
   "metadata": {},
   "outputs": [
    {
     "data": {
      "text/plain": [
       "True"
      ]
     },
     "execution_count": 5,
     "metadata": {},
     "output_type": "execute_result"
    }
   ],
   "source": [
    "li==get_prices_from_url(URL_PAGE2)"
   ]
  },
  {
   "cell_type": "markdown",
   "metadata": {},
   "source": [
    "**Partie B**\n",
    "\n",
    "*L'abus d'alcool est dangereux pour la santé, à consommer avec modération.*\n",
    "\n",
    "1) Ecrire une fonction `extract_beer_infos()` qui extrait des informations sur une bière du site de bières *beowulf*.\n",
    "\n",
    "Exemple d'URL: https://www.beerwulf.com/fr-fr/p/bieres/cuvee-des-trolls.33 \n",
    "\n",
    "La fonction doit retourner :\n",
    "```json\n",
    "{'Nom': 'Cuvée des Trolls',\n",
    " 'Style': 'Bière Blonde',\n",
    " 'Contenu': 25,\n",
    " 'Degré d’alcool': 7.0,\n",
    " 'Origine': 'Belgique',\n",
    " 'Brasseur': 'Brasserie Dubuisson Freres'}\n",
    "```\n",
    "\n",
    "2) L'URL ci-après retourne un JSON avec une liste de bières :\n",
    "\n",
    "```python\n",
    "URL_BEERLIST_FRANCE = \"https://www.beerwulf.com/fr-FR/api/search/searchProducts?country=France&container=Bouteille\"\n",
    "```\n",
    "\n",
    "Ecrire une fonction `extract_beer_list_infos(url)` qui prend en argument cet URL et retourne les informations sur une liste de bières du site *beowulf*.\n",
    "\n",
    "Cette fonction doit retourner la liste des informations obtenues par la fonction précédemment définie `extract_beer_infos()`.\n",
    "\n",
    "Exemple de retour :\n",
    "\n",
    "```json\n",
    "[{'Nom':'Desperados','Style':'Lager','Contenu':33,'Degré d’alcool':5.9,'Origine':'France','Brasseur':'Desperados'},\n",
    "{'Nom':'La Lager Sans Gluten de Vézelay','Style':'Lager','Contenu':25,'Degré d’alcool':4.0,'Origine':'France','Brasseur':'Brasserie de Vézelay'},\n",
    "{'Nom':'Mélusine Bio','Style':'Pale Ale','Contenu': 33,'Degré d’alcool': 5.0,'Origine':'France','Brasseur':'Mélusine'},\n",
    "{'Nom':'La Parisienne Le Titi Parisien','Style':'IPA','Contenu':33,'Degré d’alcool':5.5,'Origine':'France','Brasseur': 'Brasserie la Parisienne'},\n",
    "{'Nom':'Brasserie De Sutter Brin de Folie','Style':'Bière Blonde','Contenu': 33,'Degré d’alcool':6.5,'Origine':'France','Brasseur':'Brasserie de Sutter'}]\n",
    "```\n",
    "\n",
    "**Facultatif**\n",
    "\n",
    "Chercher comment optimiser cette fonction en utilisant `multiprocessing.Pool()` pour paralléliser les accès web."
   ]
  },
  {
   "cell_type": "code",
   "execution_count": 6,
   "metadata": {},
   "outputs": [],
   "source": [
    "# partie B-1\n",
    "def extract_beer_infos(url):\n",
    "    beer_infos = {\n",
    "        'Nom': None,\n",
    "        'Style': None,\n",
    "        'Contenu': None,\n",
    "        'Degré d’alcool': None,\n",
    "        'Origine': None,\n",
    "        'Brasseur': None\n",
    "    }\n",
    "    return beer_infos"
   ]
  },
  {
   "cell_type": "code",
   "execution_count": 7,
   "metadata": {},
   "outputs": [],
   "source": [
    "# partie B-1\n",
    "def extract_beer_infos(url):\n",
    "    r = requests.get(url)\n",
    "    r1=r.content.decode('utf-8')\n",
    "    soup = BeautifulSoup(r1, 'lxml')\n",
    "    beer_infos = {}\n",
    "    beer_infos.update({'Nom':soup.find_all('h1')[0].text})\n",
    "    for i in range(len(soup.find_all('dt', {'class':\"small-6 medium-3 columns\"}))):\n",
    "        if i in [0]:\n",
    "            row = soup.find_all(class_ = \"row\")\n",
    "            beer_infos.update({soup.find_all('dt', {'class':\"small-6 medium-3 columns\"})[i].text :re.sub(r'(.*)\\n(.*)'\\\n",
    "                                                                                               , r'\\2'\\\n",
    "                                                                                               ,soup.find_all('dd', {'class':[\"small-6 medium-9 columns\",\"small-6 medium-9 columns js-beer-volume\", \"small-6 medium-9 columns js-beer-country\"]})[i]\\\n",
    "                                                                                                .text)})\n",
    "        elif i ==1:\n",
    "            beer_infos.update({soup.find_all('dt', {'class':\"small-6 medium-3 columns\"})[i].text :int(re.sub(r'([0-9,]+)([a-z% ]+)'\\\n",
    "                                                                                               , r'\\1'\\\n",
    "                                                                                               ,soup.find_all('dd', {'class':[\"small-6 medium-9 columns\",\"small-6 medium-9 columns js-beer-volume\", \"small-6 medium-9 columns js-beer-country\"]})[i]\\\n",
    "                                                                                               .text))}) \n",
    "        elif i == 2:\n",
    "            beer_infos.update({soup.find_all('dt', {'class':\"small-6 medium-3 columns\"})[i].text :float(re.sub(r'([0-9,]+)([a-z% ]+)'\\\n",
    "                                                                                               , r'\\1'\\\n",
    "                                                                                               ,soup.find_all('dd', {'class':[\"small-6 medium-9 columns\",\"small-6 medium-9 columns js-beer-volume\", \"small-6 medium-9 columns js-beer-country\"]})[i]\\\n",
    "                                                                                               .text).replace(',', '.'))})\n",
    "\n",
    "        elif i in [3,4]:\n",
    "            beer_infos.update({soup.find_all('dt', {'class':\"small-6 medium-3 columns\"})[i].text :re.sub(r'(.*)\\n([a-zA-Z0-9_]+)([^a-zA-Z0-9_]+)'\\\n",
    "                                                                                               , r'\\2'\\\n",
    "                                                                                               ,soup.find_all('dd', {'class':[\"small-6 medium-9 columns\",\"small-6 medium-9 columns js-beer-volume\", \"small-6 medium-9 columns js-beer-country\"]})[i]\\\n",
    "                                                                                               .text)})\n",
    "\n",
    "    return beer_infos"
   ]
  },
  {
   "cell_type": "code",
   "execution_count": 8,
   "metadata": {},
   "outputs": [
    {
     "data": {
      "text/plain": [
       "{'Nom': 'Affligem Blond',\n",
       " 'Style': 'Bière Blonde',\n",
       " 'Contenu': 30,\n",
       " 'Degré d’alcool': 6.8,\n",
       " 'Origine': 'Belgique',\n",
       " 'Brasseur': 'Affligem'}"
      ]
     },
     "execution_count": 8,
     "metadata": {},
     "output_type": "execute_result"
    }
   ],
   "source": [
    "extract_beer_infos('https://www.beerwulf.com/fr-fr/p/bieres/affligem-blond.33')"
   ]
  },
  {
   "cell_type": "code",
   "execution_count": 9,
   "metadata": {},
   "outputs": [],
   "source": [
    "def make_soup(url):\n",
    "    try:\n",
    "        html = urllib.request.urlopen(url).read()\n",
    "    except:\n",
    "        return None\n",
    "    return BeautifulSoup(html, \"lxml\")\n"
   ]
  },
  {
   "cell_type": "code",
   "execution_count": 10,
   "metadata": {},
   "outputs": [],
   "source": [
    "# partie B-2\n",
    "URL_BEERLIST_FRANCE = \"https://www.beerwulf.com/fr-FR/api/search/searchProducts?country=France&container=Bouteille\"\n",
    "\n",
    "def extract_beer_list_infos(url):\n",
    "    # Collecter les pages de bières à partir du JSON\n",
    "    beer_pages = []\n",
    "    page = requests.get(URL_BEERLIST_FRANCE).json()\n",
    "    for i in range(len(page['items'])):\n",
    "        beer_pages.append('https://www.beerwulf.com' + page[\"items\"][i]['contentReference'])\n",
    "    \n",
    "    # Sequential version (slow):\n",
    "    beers = []\n",
    "    for i in range (len(beer_pages)):\n",
    "        beers.append(extract_beer_infos(beer_pages[i]))\n",
    "    # Facultatif\n",
    "    # Parallel version (faster):\n",
    "    # beers = []\n",
    "    \n",
    "    return beers"
   ]
  },
  {
   "cell_type": "code",
   "execution_count": 11,
   "metadata": {
    "scrolled": true
   },
   "outputs": [
    {
     "ename": "NameError",
     "evalue": "name 'response' is not defined",
     "output_type": "error",
     "traceback": [
      "\u001b[0;31m---------------------------------------------------------------------------\u001b[0m",
      "\u001b[0;31mNameError\u001b[0m                                 Traceback (most recent call last)",
      "Input \u001b[0;32mIn [11]\u001b[0m, in \u001b[0;36m<cell line: 1>\u001b[0;34m()\u001b[0m\n\u001b[0;32m----> 1\u001b[0m data \u001b[38;5;241m=\u001b[39m \u001b[43mresponse\u001b[49m\u001b[38;5;241m.\u001b[39mjson()\n\u001b[1;32m      2\u001b[0m data\n",
      "\u001b[0;31mNameError\u001b[0m: name 'response' is not defined"
     ]
    }
   ],
   "source": [
    "data = response.json()\n",
    "data"
   ]
  },
  {
   "cell_type": "code",
   "execution_count": null,
   "metadata": {},
   "outputs": [],
   "source": [
    "data['items']"
   ]
  },
  {
   "cell_type": "code",
   "execution_count": null,
   "metadata": {},
   "outputs": [],
   "source": [
    "data['items'][4]['title']"
   ]
  },
  {
   "cell_type": "code",
   "execution_count": null,
   "metadata": {
    "scrolled": true
   },
   "outputs": [],
   "source": [
    "data['items'][3]"
   ]
  },
  {
   "cell_type": "code",
   "execution_count": null,
   "metadata": {},
   "outputs": [],
   "source": [
    "list = []\n",
    "dico={}\n",
    "data_sp = data['items'][3]\n",
    "dico.update({ 'Nom':data_sp['title'], 'Style':data_sp['style'],'Contenu':data_sp['volume'],'Degré d’alcool':data_sp['alcoholPercentage'],'Origine':data_sp['title'],'Brasseur':data_sp['title']})"
   ]
  },
  {
   "cell_type": "code",
   "execution_count": null,
   "metadata": {},
   "outputs": [],
   "source": [
    "[{'Nom':'Desperados','Style':'Lager','Contenu':33,'Degré d’alcool':5.9,'Origine':'France','Brasseur':'Desperados'},\n",
    "{'Nom':'La Lager Sans Gluten de Vézelay','Style':'Lager','Contenu':25,'Degré d’alcool':4.0,'Origine':'France','Brasseur':'Brasserie de Vézelay'},\n",
    "{'Nom':'Mélusine Bio','Style':'Pale Ale','Contenu': 33,'Degré d’alcool': 5.0,'Origine':'France','Brasseur':'Mélusine'},\n",
    "{'Nom':'La Parisienne Le Titi Parisien','Style':'IPA','Contenu':33,'Degré d’alcool':5.5,'Origine':'France','Brasseur': 'Brasserie la Parisienne'},\n",
    "{'Nom':'Brasserie De Sutter Brin de Folie','Style':'Bière Blonde','Contenu': 33,'Degré d’alcool':6.5,'Origine':'France','Brasseur':'Brasserie de Sutter'}]"
   ]
  },
  {
   "cell_type": "code",
   "execution_count": 12,
   "metadata": {},
   "outputs": [],
   "source": [
    "import unittest\n",
    "\n",
    "class Session4Tests(unittest.TestCase):\n",
    "    def test_01_get_prices_from_url_page2(self):\n",
    "        prices = get_prices_from_url(URL_PAGE2)\n",
    "        # We should have found 3 products:\n",
    "        self.assertIsInstance(prices, dict)\n",
    "        self.assertEqual(len(prices), 3)\n",
    "        self.assertIn('Personal', prices)\n",
    "        self.assertIn('Small Business', prices)\n",
    "        self.assertIn('Enterprise', prices)\n",
    "        \n",
    "        personal = prices['Personal']\n",
    "        self.assertIn('price', personal)\n",
    "        self.assertIn('storage', personal)\n",
    "        self.assertIn('databases', personal)\n",
    "        self.assertEqual(personal['price'], '$5')\n",
    "        self.assertEqual(personal['storage'], '1GB')\n",
    "        self.assertEqual(personal['databases'], 1)\n",
    "        \n",
    "    def test_02_get_prices_from_url_page3(self):\n",
    "        prices = get_prices_from_url(URL_PAGE3)\n",
    "        self.assertIsInstance(prices, dict)\n",
    "        self.assertEqual(len(prices), 4)\n",
    "        self.assertEqual(\n",
    "            prices['Privilege'],\n",
    "            {'databases': 100, 'price': '$99', 'storage': '1TB'}\n",
    "        )\n",
    "    \n",
    "    def test_03_extract_beer_list_infos(self):\n",
    "        infos = extract_beer_list_infos(URL_BEERLIST_FRANCE)\n",
    "        self.assertIsInstance(infos, list)\n",
    "        self.assertGreater(len(infos), 1)\n",
    "        # Contenu = int\n",
    "        # Degré d’alcool = float\n",
    "        for beer in infos:\n",
    "            self.assertIsInstance(beer['Nom'], str)\n",
    "            self.assertIsInstance(beer['Style'], str)\n",
    "            self.assertIsInstance(beer['Contenu'], int)\n",
    "            self.assertIsInstance(beer['Degré d’alcool'], float)\n",
    "            self.assertEqual(beer['Origine'], \"France\")\n",
    "            self.assertIsInstance(beer['Brasseur'], str)\n",
    "\n",
    "            \n",
    "def run_tests():\n",
    "    test_suite = unittest.makeSuite(Session4Tests)\n",
    "    runner = unittest.TextTestRunner(verbosity=2)\n",
    "    runner.run(test_suite)"
   ]
  },
  {
   "cell_type": "code",
   "execution_count": 13,
   "metadata": {},
   "outputs": [
    {
     "name": "stderr",
     "output_type": "stream",
     "text": [
      "test_01_get_prices_from_url_page2 (__main__.Session4Tests) ... ok\n",
      "test_02_get_prices_from_url_page3 (__main__.Session4Tests) ... ok\n",
      "test_03_extract_beer_list_infos (__main__.Session4Tests) ... ok\n",
      "\n",
      "----------------------------------------------------------------------\n",
      "Ran 3 tests in 3.944s\n",
      "\n",
      "OK\n"
     ]
    }
   ],
   "source": [
    "if __name__ == '__main__':\n",
    "    run_tests()"
   ]
  },
  {
   "cell_type": "code",
   "execution_count": null,
   "metadata": {},
   "outputs": [],
   "source": []
  }
 ],
 "metadata": {
  "kernelspec": {
   "display_name": "Python 3 (ipykernel)",
   "language": "python",
   "name": "python3"
  },
  "language_info": {
   "codemirror_mode": {
    "name": "ipython",
    "version": 3
   },
   "file_extension": ".py",
   "mimetype": "text/x-python",
   "name": "python",
   "nbconvert_exporter": "python",
   "pygments_lexer": "ipython3",
   "version": "3.10.4"
  }
 },
 "nbformat": 4,
 "nbformat_minor": 4
}
